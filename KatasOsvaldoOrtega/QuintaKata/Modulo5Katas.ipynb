{
 "cells": [
  {
   "cell_type": "markdown",
   "metadata": {},
   "source": [
    "# Ejercicio 1"
   ]
  },
  {
   "cell_type": "code",
   "execution_count": 1,
   "metadata": {},
   "outputs": [],
   "source": [
    "distance_earth = 149597870\n",
    "distance_jupyther = 778547200"
   ]
  },
  {
   "cell_type": "code",
   "execution_count": 5,
   "metadata": {},
   "outputs": [
    {
     "name": "stdout",
     "output_type": "stream",
     "text": [
      "628949330\n",
      "390577533.93\n"
     ]
    }
   ],
   "source": [
    "distance = distance_jupyther - distance_earth\n",
    "print(distance)\n",
    "distance_inMiles = distance * 0.621\n",
    "print(distance_inMiles)\n"
   ]
  },
  {
   "cell_type": "markdown",
   "metadata": {},
   "source": [
    "# Ejercicio 2"
   ]
  },
  {
   "cell_type": "code",
   "execution_count": 9,
   "metadata": {},
   "outputs": [],
   "source": [
    "first_planet = input('Introduzca la distancia del sol para el primer planeta en KM')\n",
    "second_planet = input('Introduzca la distancia desde el sol para el segundo planeta en KM')"
   ]
  },
  {
   "cell_type": "code",
   "execution_count": 10,
   "metadata": {},
   "outputs": [],
   "source": [
    "first_planet = int(first_planet)\n",
    "second_planet = int(second_planet)"
   ]
  },
  {
   "cell_type": "code",
   "execution_count": 11,
   "metadata": {},
   "outputs": [
    {
     "name": "stdout",
     "output_type": "stream",
     "text": [
      "-90000\n",
      "55890.0\n"
     ]
    }
   ],
   "source": [
    "# Realizar el cálculo y determinar el valor absoluto\n",
    "distance_km = second_planet - first_planet\n",
    "print(distance_km)\n",
    "\n",
    "# Convertir de KM a Millas\n",
    "distance_mi = distance_km * 0.621\n",
    "print(abs(distance_mi))"
   ]
  }
 ],
 "metadata": {
  "interpreter": {
   "hash": "1c81b5a50b0558e948fda055473276103819aac2b675edff13aeb5a3bfe18794"
  },
  "kernelspec": {
   "display_name": "Python 3.9.10 64-bit (windows store)",
   "language": "python",
   "name": "python3"
  },
  "language_info": {
   "codemirror_mode": {
    "name": "ipython",
    "version": 3
   },
   "file_extension": ".py",
   "mimetype": "text/x-python",
   "name": "python",
   "nbconvert_exporter": "python",
   "pygments_lexer": "ipython3",
   "version": "3.9.10"
  },
  "orig_nbformat": 4
 },
 "nbformat": 4,
 "nbformat_minor": 2
}
